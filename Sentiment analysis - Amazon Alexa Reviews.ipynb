{
 "cells": [
  {
   "cell_type": "markdown",
   "metadata": {
    "id": "M27qF7CTrBqc"
   },
   "source": [
    "# Análise de sentimentos"
   ]
  },
  {
   "cell_type": "markdown",
   "metadata": {
    "id": "uAE6Icc0uylP"
   },
   "source": [
    "## Importação das bibliotecas e base de dados\n",
    "\n",
    "- Base de dados: https://www.kaggle.com/sid321axn/amazon-alexa-reviews/kernels"
   ]
  },
  {
   "cell_type": "code",
   "execution_count": null,
   "metadata": {
    "id": "YBp2qDPb8pDo"
   },
   "outputs": [],
   "source": [
    "import pandas as pd\n",
    "import numpy as np\n",
    "import seaborn as sns\n",
    "import matplotlib.pyplot as plt"
   ]
  },
  {
   "cell_type": "code",
   "execution_count": null,
   "metadata": {
    "id": "bZ2dOD15Hu5-"
   },
   "outputs": [],
   "source": [
    "reviews_df = pd.read_csv('/content/amazon_alexa.tsv', sep = '\\t')"
   ]
  },
  {
   "cell_type": "code",
   "execution_count": null,
   "metadata": {
    "id": "430C2bGIH90e"
   },
   "outputs": [],
   "source": [
    "reviews_df.shape"
   ]
  },
  {
   "cell_type": "code",
   "execution_count": null,
   "metadata": {
    "id": "kwN_A1ZeIBjt"
   },
   "outputs": [],
   "source": [
    "reviews_df"
   ]
  },
  {
   "cell_type": "code",
   "execution_count": null,
   "metadata": {
    "id": "S-p5B1REJFzV"
   },
   "outputs": [],
   "source": [
    "reviews_df.info()"
   ]
  },
  {
   "cell_type": "code",
   "execution_count": null,
   "metadata": {
    "id": "aWVe9pWTJLud"
   },
   "outputs": [],
   "source": [
    "reviews_df.describe()"
   ]
  },
  {
   "cell_type": "code",
   "execution_count": null,
   "metadata": {
    "id": "Wt56Ez5dJrga"
   },
   "outputs": [],
   "source": [
    "reviews_df['verified_reviews']"
   ]
  },
  {
   "cell_type": "markdown",
   "metadata": {
    "id": "LlszUhNNyrl_"
   },
   "source": [
    "## Exploração dos dados"
   ]
  },
  {
   "cell_type": "code",
   "execution_count": null,
   "metadata": {
    "id": "q1q7332lKHx9"
   },
   "outputs": [],
   "source": [
    "sns.heatmap(reviews_df.isnull(), cbar=False);"
   ]
  },
  {
   "cell_type": "code",
   "execution_count": null,
   "metadata": {
    "id": "PnauhyEIKRaD"
   },
   "outputs": [],
   "source": [
    "reviews_df.isnull().sum()"
   ]
  },
  {
   "cell_type": "code",
   "execution_count": null,
   "metadata": {
    "id": "0I7CywJoKYEU"
   },
   "outputs": [],
   "source": [
    "reviews_df.hist(bins = 30, figsize=(13,5), color = 'r')"
   ]
  },
  {
   "cell_type": "code",
   "execution_count": null,
   "metadata": {
    "id": "9ro2M7gYKwrF"
   },
   "outputs": [],
   "source": [
    "reviews_df['length'] = reviews_df['verified_reviews'].apply(len)\n",
    "reviews_df.head()"
   ]
  },
  {
   "cell_type": "code",
   "execution_count": null,
   "metadata": {
    "id": "q09IspzFLQQw"
   },
   "outputs": [],
   "source": [
    "reviews_df['length'].plot(bins = 100, kind = 'hist');"
   ]
  },
  {
   "cell_type": "code",
   "execution_count": null,
   "metadata": {
    "id": "SrlOPJDCooKY"
   },
   "outputs": [],
   "source": [
    "reviews_df.length.describe()"
   ]
  },
  {
   "cell_type": "code",
   "execution_count": null,
   "metadata": {
    "id": "qM5Xygyuorx3"
   },
   "outputs": [],
   "source": [
    "reviews_df[reviews_df['length'] == 2851]['verified_reviews'].iloc[0]"
   ]
  },
  {
   "cell_type": "code",
   "execution_count": null,
   "metadata": {
    "id": "vANGgeWqMP1C"
   },
   "outputs": [],
   "source": [
    "reviews_df[reviews_df['length'] == 1]['verified_reviews'].iloc[0]"
   ]
  },
  {
   "cell_type": "code",
   "execution_count": null,
   "metadata": {
    "id": "zAerEAFCMW3f"
   },
   "outputs": [],
   "source": [
    "reviews_df[reviews_df['length'] == 131]['verified_reviews'].iloc[0]"
   ]
  },
  {
   "cell_type": "code",
   "execution_count": null,
   "metadata": {
    "id": "jyIciguAMf7a"
   },
   "outputs": [],
   "source": [
    "positive = reviews_df[reviews_df['feedback'] == 1]"
   ]
  },
  {
   "cell_type": "code",
   "execution_count": null,
   "metadata": {
    "id": "B8OQDNLWMm7o"
   },
   "outputs": [],
   "source": [
    "positive"
   ]
  },
  {
   "cell_type": "code",
   "execution_count": null,
   "metadata": {
    "id": "B948OMS3Mpol"
   },
   "outputs": [],
   "source": [
    "positive.describe()"
   ]
  },
  {
   "cell_type": "code",
   "execution_count": null,
   "metadata": {
    "id": "0NBcj-dhMxil"
   },
   "outputs": [],
   "source": [
    "negative = reviews_df[reviews_df['feedback'] == 0]"
   ]
  },
  {
   "cell_type": "code",
   "execution_count": null,
   "metadata": {
    "id": "cbeu_12BM2xt"
   },
   "outputs": [],
   "source": [
    "negative"
   ]
  },
  {
   "cell_type": "code",
   "execution_count": null,
   "metadata": {
    "id": "l6A8Mw-_M5I_"
   },
   "outputs": [],
   "source": [
    "negative.describe()"
   ]
  },
  {
   "cell_type": "code",
   "execution_count": null,
   "metadata": {
    "id": "9ClAUcihNRIC"
   },
   "outputs": [],
   "source": [
    "sns.countplot(reviews_df['feedback']);"
   ]
  },
  {
   "cell_type": "code",
   "execution_count": null,
   "metadata": {
    "id": "dRLSv5yxNa30"
   },
   "outputs": [],
   "source": [
    "sns.countplot(x = 'rating', data = reviews_df);"
   ]
  },
  {
   "cell_type": "code",
   "execution_count": null,
   "metadata": {
    "id": "LWjNYgObNijK"
   },
   "outputs": [],
   "source": [
    "plt.figure(figsize = (40,15))\n",
    "sns.barplot(x = 'variation', y = 'rating', data = reviews_df, palette = 'deep');"
   ]
  },
  {
   "cell_type": "code",
   "execution_count": null,
   "metadata": {
    "id": "ksOb_k_oaCwh"
   },
   "outputs": [],
   "source": [
    "sentences = reviews_df['verified_reviews'].tolist()\n",
    "len(sentences)"
   ]
  },
  {
   "cell_type": "code",
   "execution_count": null,
   "metadata": {
    "id": "MLaq50AEaLh5"
   },
   "outputs": [],
   "source": [
    "print(sentences[0:10])"
   ]
  },
  {
   "cell_type": "code",
   "execution_count": null,
   "metadata": {
    "id": "IRLBW9MkaXgu"
   },
   "outputs": [],
   "source": [
    "sentences_as_one_string = ' '.join(sentences)"
   ]
  },
  {
   "cell_type": "code",
   "execution_count": null,
   "metadata": {
    "id": "OITaxnz6aftX"
   },
   "outputs": [],
   "source": [
    "sentences_as_one_string"
   ]
  },
  {
   "cell_type": "code",
   "execution_count": null,
   "metadata": {
    "id": "8tMS9GMOalxe"
   },
   "outputs": [],
   "source": [
    "len(sentences_as_one_string)"
   ]
  },
  {
   "cell_type": "code",
   "execution_count": null,
   "metadata": {
    "id": "0aC3pgbAar7S"
   },
   "outputs": [],
   "source": [
    "from wordcloud import WordCloud\n",
    "plt.figure(figsize=(20,20))\n",
    "plt.imshow(WordCloud().generate(sentences_as_one_string));"
   ]
  },
  {
   "cell_type": "code",
   "execution_count": null,
   "metadata": {
    "id": "zax6I1PobR1s"
   },
   "outputs": [],
   "source": [
    "negative_list = negative['verified_reviews'].tolist()\n",
    "negative_sentences_as_one_string = ' '.join(negative_list)"
   ]
  },
  {
   "cell_type": "code",
   "execution_count": null,
   "metadata": {
    "id": "55KWRfOSbdF1"
   },
   "outputs": [],
   "source": [
    "len(negative_sentences_as_one_string)"
   ]
  },
  {
   "cell_type": "code",
   "execution_count": null,
   "metadata": {
    "id": "9ZyXwqycbjB_"
   },
   "outputs": [],
   "source": [
    "plt.figure(figsize=(20,20))\n",
    "plt.imshow(WordCloud().generate(negative_sentences_as_one_string));"
   ]
  },
  {
   "cell_type": "markdown",
   "metadata": {
    "id": "Dk-VS-9mFnzA"
   },
   "source": [
    "## Limpeza dos dados"
   ]
  },
  {
   "cell_type": "code",
   "execution_count": null,
   "metadata": {
    "id": "pV8Q3BA7cXFc"
   },
   "outputs": [],
   "source": [
    "reviews_df.head()"
   ]
  },
  {
   "cell_type": "code",
   "execution_count": null,
   "metadata": {
    "id": "qLwDq8myo6CU"
   },
   "outputs": [],
   "source": [
    "reviews_df = reviews_df.drop(['date', 'rating', 'length'], axis = 1)"
   ]
  },
  {
   "cell_type": "code",
   "execution_count": null,
   "metadata": {
    "id": "jfH1B6hqo30f"
   },
   "outputs": [],
   "source": [
    "reviews_df"
   ]
  },
  {
   "cell_type": "code",
   "execution_count": null,
   "metadata": {
    "id": "h52PMWPgc4r4"
   },
   "outputs": [],
   "source": [
    "reviews_df['variation'].unique()"
   ]
  },
  {
   "cell_type": "code",
   "execution_count": null,
   "metadata": {
    "id": "IJsfsrs2dAQF"
   },
   "outputs": [],
   "source": [
    "X_cat = reviews_df[['variation']]\n",
    "X_cat"
   ]
  },
  {
   "cell_type": "code",
   "execution_count": null,
   "metadata": {
    "id": "oal91RPTdGnZ"
   },
   "outputs": [],
   "source": [
    "from sklearn.preprocessing import OneHotEncoder\n",
    "onehotencoder = OneHotEncoder()\n",
    "X_cat = onehotencoder.fit_transform(X_cat).toarray()"
   ]
  },
  {
   "cell_type": "code",
   "execution_count": null,
   "metadata": {
    "id": "T1tCC0hHdS-H"
   },
   "outputs": [],
   "source": [
    "X_cat[1], X_cat.shape"
   ]
  },
  {
   "cell_type": "code",
   "execution_count": null,
   "metadata": {
    "id": "18galht4dcBt"
   },
   "outputs": [],
   "source": [
    "type(X_cat)"
   ]
  },
  {
   "cell_type": "code",
   "execution_count": null,
   "metadata": {
    "id": "snKciRXvdfZV"
   },
   "outputs": [],
   "source": [
    "X_cat = pd.DataFrame(X_cat)\n",
    "type(X_cat)"
   ]
  },
  {
   "cell_type": "code",
   "execution_count": null,
   "metadata": {
    "id": "mUvb5nGOdlkp"
   },
   "outputs": [],
   "source": [
    "reviews_df.drop(['variation'], axis = 1, inplace = True)"
   ]
  },
  {
   "cell_type": "code",
   "execution_count": null,
   "metadata": {
    "id": "EPCdyQ-6dyhU"
   },
   "outputs": [],
   "source": [
    "reviews_df"
   ]
  },
  {
   "cell_type": "code",
   "execution_count": null,
   "metadata": {
    "id": "GDfz_s2tpxMo"
   },
   "outputs": [],
   "source": [
    "reviews_df = pd.concat([reviews_df, X_cat], axis = 1)\n",
    "reviews_df"
   ]
  },
  {
   "cell_type": "markdown",
   "metadata": {
    "id": "Y0GmpAjG3GiH"
   },
   "source": [
    "## Remoção de pontuação dos textos"
   ]
  },
  {
   "cell_type": "code",
   "execution_count": null,
   "metadata": {
    "id": "UUCJ7WzPqQmY"
   },
   "outputs": [],
   "source": [
    "import string\n",
    "string.punctuation"
   ]
  },
  {
   "cell_type": "code",
   "execution_count": null,
   "metadata": {
    "id": "ysm5ZuVXqems"
   },
   "outputs": [],
   "source": [
    "test = 'Fun item to play with and get used to using. Sometimes has hard time answering the questions you ask, but I think it will be better!'"
   ]
  },
  {
   "cell_type": "code",
   "execution_count": null,
   "metadata": {
    "id": "60R0XI6Rqlku"
   },
   "outputs": [],
   "source": [
    "test_punc_removed = [char for char in test if char not in string.punctuation]"
   ]
  },
  {
   "cell_type": "code",
   "execution_count": null,
   "metadata": {
    "id": "l36K3i5rq5El"
   },
   "outputs": [],
   "source": [
    "print(test_punc_removed)"
   ]
  },
  {
   "cell_type": "code",
   "execution_count": null,
   "metadata": {
    "id": "-9IdEkiIrFjX"
   },
   "outputs": [],
   "source": [
    "test_punc_removed = ''.join(test_punc_removed)\n",
    "test_punc_removed"
   ]
  },
  {
   "cell_type": "markdown",
   "metadata": {
    "id": "78wsji1HPWW3"
   },
   "source": [
    "## Remoção de stop words"
   ]
  },
  {
   "cell_type": "code",
   "execution_count": null,
   "metadata": {
    "id": "NKatLXABrtka"
   },
   "outputs": [],
   "source": [
    "import nltk"
   ]
  },
  {
   "cell_type": "code",
   "execution_count": null,
   "metadata": {
    "id": "3iNiJnosrwvS"
   },
   "outputs": [],
   "source": [
    "nltk.download('stopwords')"
   ]
  },
  {
   "cell_type": "code",
   "execution_count": null,
   "metadata": {
    "id": "OpGeAy42r2K1"
   },
   "outputs": [],
   "source": [
    "from nltk.corpus import stopwords\n",
    "print(stopwords.words('english'))"
   ]
  },
  {
   "cell_type": "code",
   "execution_count": null,
   "metadata": {
    "id": "lQ9CIiUbsPFw"
   },
   "outputs": [],
   "source": [
    "len(stopwords.words('english'))"
   ]
  },
  {
   "cell_type": "code",
   "execution_count": null,
   "metadata": {
    "id": "56ZkEVAksTU6"
   },
   "outputs": [],
   "source": [
    "print(stopwords.words('portuguese'))"
   ]
  },
  {
   "cell_type": "code",
   "execution_count": null,
   "metadata": {
    "id": "SkyagJZ6scPa"
   },
   "outputs": [],
   "source": [
    "len(stopwords.words('portuguese'))"
   ]
  },
  {
   "cell_type": "code",
   "execution_count": null,
   "metadata": {
    "id": "-WS615hqsg_A"
   },
   "outputs": [],
   "source": [
    "test_punc_removed"
   ]
  },
  {
   "cell_type": "code",
   "execution_count": null,
   "metadata": {
    "id": "TjVPciXhs08k"
   },
   "outputs": [],
   "source": [
    "print(test_punc_removed.split())"
   ]
  },
  {
   "cell_type": "code",
   "execution_count": null,
   "metadata": {
    "id": "7lIkaxHOtJ-T"
   },
   "outputs": [],
   "source": [
    "'AB'.lower()"
   ]
  },
  {
   "cell_type": "code",
   "execution_count": null,
   "metadata": {
    "id": "717G96ykslCP"
   },
   "outputs": [],
   "source": [
    "test_punc_stop_removed = [word for word in test_punc_removed.split() if word.lower() not in stopwords.words('english')]"
   ]
  },
  {
   "cell_type": "code",
   "execution_count": null,
   "metadata": {
    "id": "Y8j7Hm-ntOa_"
   },
   "outputs": [],
   "source": [
    "print(test_punc_stop_removed)"
   ]
  },
  {
   "cell_type": "markdown",
   "metadata": {
    "id": "7Kxb4M0pRBkU"
   },
   "source": [
    "## Count vectorization (tokenização)"
   ]
  },
  {
   "cell_type": "code",
   "execution_count": null,
   "metadata": {
    "id": "G8W8esPV3Fk3"
   },
   "outputs": [],
   "source": [
    "from sklearn.feature_extraction.text import CountVectorizer"
   ]
  },
  {
   "cell_type": "code",
   "execution_count": null,
   "metadata": {
    "id": "thTpM7so3Kzi"
   },
   "outputs": [],
   "source": [
    "sample_data = ['This is the first document.','This document is the second document.',\n",
    "               'And this is the third one.','Is this the first document?']"
   ]
  },
  {
   "cell_type": "code",
   "execution_count": null,
   "metadata": {
    "id": "7xPeDjTw3RtU"
   },
   "outputs": [],
   "source": [
    "vectorizer = CountVectorizer()\n",
    "X = vectorizer.fit_transform(sample_data)"
   ]
  },
  {
   "cell_type": "code",
   "execution_count": null,
   "metadata": {
    "id": "LXVq5Bx83bV0"
   },
   "outputs": [],
   "source": [
    "print(vectorizer.get_feature_names_out())"
   ]
  },
  {
   "cell_type": "code",
   "execution_count": null,
   "metadata": {
    "id": "n0gaoI7V3kaa"
   },
   "outputs": [],
   "source": [
    "X"
   ]
  },
  {
   "cell_type": "code",
   "execution_count": null,
   "metadata": {
    "id": "jJ7zfY6y3nzW"
   },
   "outputs": [],
   "source": [
    "print(X.toarray())"
   ]
  },
  {
   "cell_type": "markdown",
   "metadata": {
    "id": "2geMzGITbZPJ"
   },
   "source": [
    "## Pipeline de limpeza dos textos"
   ]
  },
  {
   "cell_type": "code",
   "execution_count": null,
   "metadata": {
    "id": "5XudYnOj4HsE"
   },
   "outputs": [],
   "source": [
    "def message_cleaning(message):\n",
    "  text = [char for char in message if char not in string.punctuation]\n",
    "  text = ''.join(text)\n",
    "  text = [word for word in text.split() if word.lower() not in stopwords.words('english')]\n",
    "  return text"
   ]
  },
  {
   "cell_type": "code",
   "execution_count": null,
   "metadata": {
    "id": "jTeT414r4kfv"
   },
   "outputs": [],
   "source": [
    "reviews_df_clean = reviews_df['verified_reviews'].apply(message_cleaning)"
   ]
  },
  {
   "cell_type": "code",
   "execution_count": null,
   "metadata": {
    "id": "g3yaxKhf4zG1"
   },
   "outputs": [],
   "source": [
    "print(reviews_df_clean[3])"
   ]
  },
  {
   "cell_type": "code",
   "execution_count": null,
   "metadata": {
    "id": "KVi3-9-64-PY"
   },
   "outputs": [],
   "source": [
    "print(reviews_df['verified_reviews'][3])"
   ]
  },
  {
   "cell_type": "code",
   "execution_count": null,
   "metadata": {
    "id": "9RH_ZjrC5H96"
   },
   "outputs": [],
   "source": [
    "reviews_df_clean"
   ]
  },
  {
   "cell_type": "code",
   "execution_count": null,
   "metadata": {
    "id": "LMgPktDu5OdY"
   },
   "outputs": [],
   "source": [
    "from sklearn.feature_extraction.text import CountVectorizer\n",
    "vectorizer = CountVectorizer(analyzer=message_cleaning)\n",
    "reviews_countvectorizer = vectorizer.fit_transform(reviews_df['verified_reviews'])"
   ]
  },
  {
   "cell_type": "code",
   "execution_count": null,
   "metadata": {
    "id": "I50FJyFW5zV4"
   },
   "outputs": [],
   "source": [
    "print(vectorizer.get_feature_names_out())"
   ]
  },
  {
   "cell_type": "code",
   "execution_count": null,
   "metadata": {
    "id": "7oq-D-_157jX"
   },
   "outputs": [],
   "source": [
    "len(vectorizer.get_feature_names_out())"
   ]
  },
  {
   "cell_type": "code",
   "execution_count": null,
   "metadata": {
    "id": "rEN4igUo6F8V"
   },
   "outputs": [],
   "source": [
    "print(reviews_countvectorizer.toarray())"
   ]
  },
  {
   "cell_type": "code",
   "execution_count": null,
   "metadata": {
    "id": "_sZ7PhvE6LlW"
   },
   "outputs": [],
   "source": [
    "reviews_countvectorizer.shape"
   ]
  },
  {
   "cell_type": "code",
   "execution_count": null,
   "metadata": {
    "id": "htF5FkAK6UlM"
   },
   "outputs": [],
   "source": [
    "reviews_df"
   ]
  },
  {
   "cell_type": "code",
   "execution_count": null,
   "metadata": {
    "id": "CQAoZ64D6cn1"
   },
   "outputs": [],
   "source": [
    "reviews_df.drop(['verified_reviews'], axis = 1, inplace=True)\n",
    "reviews_df"
   ]
  },
  {
   "cell_type": "code",
   "execution_count": null,
   "metadata": {
    "id": "QFhBhR6X6moo"
   },
   "outputs": [],
   "source": [
    "type(reviews_countvectorizer)"
   ]
  },
  {
   "cell_type": "code",
   "execution_count": null,
   "metadata": {
    "id": "D7vN5jFK6t6i"
   },
   "outputs": [],
   "source": [
    "reviews = pd.DataFrame(reviews_countvectorizer.toarray())\n",
    "type(reviews)"
   ]
  },
  {
   "cell_type": "code",
   "execution_count": null,
   "metadata": {
    "id": "2uEL17HG60e6"
   },
   "outputs": [],
   "source": [
    "reviews_df = pd.concat([reviews_df, reviews], axis = 1)"
   ]
  },
  {
   "cell_type": "code",
   "execution_count": null,
   "metadata": {
    "id": "pOOJz82C67Hf"
   },
   "outputs": [],
   "source": [
    "reviews_df"
   ]
  },
  {
   "cell_type": "code",
   "execution_count": null,
   "metadata": {
    "id": "k1dCDaT37CMt"
   },
   "outputs": [],
   "source": [
    "X = reviews_df.drop(['feedback'], axis = 1)\n",
    "X"
   ]
  },
  {
   "cell_type": "code",
   "execution_count": null,
   "metadata": {
    "id": "UbSJnKII7OzR"
   },
   "outputs": [],
   "source": [
    "y = reviews_df['feedback']\n",
    "y"
   ]
  },
  {
   "cell_type": "markdown",
   "metadata": {
    "id": "jIVxZdZ1USAz"
   },
   "source": [
    "## Treinamento e avaliação do Naïve Bayes"
   ]
  },
  {
   "cell_type": "code",
   "execution_count": null,
   "metadata": {
    "id": "_NsT3WZJIIg9"
   },
   "outputs": [],
   "source": [
    "from sklearn.model_selection import train_test_split\n",
    "X_train, X_test, y_train, y_test = train_test_split(X, y, test_size = 0.2)"
   ]
  },
  {
   "cell_type": "code",
   "execution_count": null,
   "metadata": {
    "id": "jNkfm1fPISYk"
   },
   "outputs": [],
   "source": [
    "X_train.shape, X_test.shape"
   ]
  },
  {
   "cell_type": "code",
   "execution_count": null,
   "metadata": {
    "id": "Obsf1vAoIXMJ"
   },
   "outputs": [],
   "source": [
    "from sklearn.naive_bayes import MultinomialNB"
   ]
  },
  {
   "cell_type": "code",
   "execution_count": null,
   "metadata": {
    "id": "_zpBU5jsI_9K"
   },
   "outputs": [],
   "source": [
    "naive_bayes = MultinomialNB()\n",
    "naive_bayes.fit(X_train, y_train)"
   ]
  },
  {
   "cell_type": "code",
   "execution_count": null,
   "metadata": {
    "id": "P7NxFgsWJIl5"
   },
   "outputs": [],
   "source": [
    "from sklearn.metrics import classification_report, confusion_matrix, accuracy_score"
   ]
  },
  {
   "cell_type": "code",
   "execution_count": null,
   "metadata": {
    "id": "IeIcyvOEJOjk"
   },
   "outputs": [],
   "source": [
    "y_pred = naive_bayes.predict(X_test)"
   ]
  },
  {
   "cell_type": "code",
   "execution_count": null,
   "metadata": {
    "id": "FuYWzd-JJTuG"
   },
   "outputs": [],
   "source": [
    "y_pred"
   ]
  },
  {
   "cell_type": "code",
   "execution_count": null,
   "metadata": {
    "id": "1tKTpZsBJWd3"
   },
   "outputs": [],
   "source": [
    "y_test"
   ]
  },
  {
   "cell_type": "code",
   "execution_count": null,
   "metadata": {
    "id": "DNbdrYvgJbLP"
   },
   "outputs": [],
   "source": [
    "accuracy_score(y_test, y_pred)"
   ]
  },
  {
   "cell_type": "code",
   "execution_count": null,
   "metadata": {
    "id": "InuG7OoUJhGt"
   },
   "outputs": [],
   "source": [
    "cm = confusion_matrix(y_test, y_pred)\n",
    "cm"
   ]
  },
  {
   "cell_type": "code",
   "execution_count": null,
   "metadata": {
    "id": "EEPTg2H8JoBi"
   },
   "outputs": [],
   "source": [
    "sns.heatmap(cm, annot=True, fmt='.3g');"
   ]
  },
  {
   "cell_type": "code",
   "execution_count": null,
   "metadata": {
    "id": "DDYFhkb7J061"
   },
   "outputs": [],
   "source": [
    "print(classification_report(y_test, y_pred))"
   ]
  },
  {
   "cell_type": "markdown",
   "metadata": {
    "id": "otudfveOME9P"
   },
   "source": [
    "## Treinamento e avaliação da regressão logística"
   ]
  },
  {
   "cell_type": "code",
   "execution_count": null,
   "metadata": {
    "id": "JKgwgvqCKrKL"
   },
   "outputs": [],
   "source": [
    "from sklearn.linear_model import LogisticRegression"
   ]
  },
  {
   "cell_type": "code",
   "execution_count": null,
   "metadata": {
    "id": "fHIgoqwSKwXE"
   },
   "outputs": [],
   "source": [
    "logistic = LogisticRegression()\n",
    "logistic.fit(X_train, y_train)"
   ]
  },
  {
   "cell_type": "code",
   "execution_count": null,
   "metadata": {
    "id": "zaWxKxi1K2ld"
   },
   "outputs": [],
   "source": [
    "y_pred = logistic.predict(X_test)"
   ]
  },
  {
   "cell_type": "code",
   "execution_count": null,
   "metadata": {
    "id": "f0kh83poK68v"
   },
   "outputs": [],
   "source": [
    "accuracy_score(y_test, y_pred)"
   ]
  },
  {
   "cell_type": "code",
   "execution_count": null,
   "metadata": {
    "id": "copXPhu0LB6H"
   },
   "outputs": [],
   "source": [
    "print(classification_report(y_test, y_pred))"
   ]
  },
  {
   "cell_type": "markdown",
   "metadata": {
    "id": "WAEsIPnlMHXa"
   },
   "source": [
    "## Classificação de somente uma frase"
   ]
  },
  {
   "cell_type": "code",
   "execution_count": null,
   "metadata": {
    "id": "pCTSKazXMA-m"
   },
   "outputs": [],
   "source": [
    "import pickle"
   ]
  },
  {
   "cell_type": "code",
   "execution_count": null,
   "metadata": {
    "id": "-aE8_tzbMEuL"
   },
   "outputs": [],
   "source": [
    "with open('text_classifier.pkl', 'wb') as f:\n",
    "  pickle.dump([naive_bayes, onehotencoder, vectorizer], f)"
   ]
  },
  {
   "cell_type": "code",
   "execution_count": null,
   "metadata": {
    "id": "VcAOxFJdMZ06"
   },
   "outputs": [],
   "source": [
    "with open('text_classifier.pkl', 'rb') as f:\n",
    "  bayes, onehot, vec = pickle.load(f)"
   ]
  },
  {
   "cell_type": "code",
   "execution_count": null,
   "metadata": {
    "id": "BOUO-B2eMluw"
   },
   "outputs": [],
   "source": [
    "bayes"
   ]
  },
  {
   "cell_type": "code",
   "execution_count": null,
   "metadata": {
    "id": "jgI1HOLrMnbb"
   },
   "outputs": [],
   "source": [
    "onehot"
   ]
  },
  {
   "cell_type": "code",
   "execution_count": null,
   "metadata": {
    "id": "lLfhX1w3MpCz"
   },
   "outputs": [],
   "source": [
    "vec"
   ]
  },
  {
   "cell_type": "code",
   "execution_count": null,
   "metadata": {
    "id": "AvRyM6wCMuL8"
   },
   "outputs": [],
   "source": [
    "negative.head()"
   ]
  },
  {
   "cell_type": "code",
   "execution_count": null,
   "metadata": {
    "id": "iuaVa_XXM4dJ"
   },
   "outputs": [],
   "source": [
    "negative_text = negative.iloc[1:2, [2,3]]\n",
    "negative_text"
   ]
  },
  {
   "cell_type": "code",
   "execution_count": null,
   "metadata": {
    "id": "k3Op9adxNQ_c"
   },
   "outputs": [],
   "source": [
    "X_cat = negative_text[['variation']]\n",
    "X_cat"
   ]
  },
  {
   "cell_type": "code",
   "execution_count": null,
   "metadata": {
    "id": "u5YiuA5zNWqY"
   },
   "outputs": [],
   "source": [
    "X_cat = onehot.transform(X_cat).toarray()\n",
    "X_cat = pd.DataFrame(X_cat)\n",
    "X_cat"
   ]
  },
  {
   "cell_type": "code",
   "execution_count": null,
   "metadata": {
    "id": "vWwO9U2CNjD6"
   },
   "outputs": [],
   "source": [
    "negative_text"
   ]
  },
  {
   "cell_type": "code",
   "execution_count": null,
   "metadata": {
    "id": "ZhF1Ci5kN547"
   },
   "outputs": [],
   "source": [
    "X_cat.index = negative_text.index"
   ]
  },
  {
   "cell_type": "code",
   "execution_count": null,
   "metadata": {
    "id": "zj6i1cabOAeg"
   },
   "outputs": [],
   "source": [
    "X_cat.index, negative_text.index"
   ]
  },
  {
   "cell_type": "code",
   "execution_count": null,
   "metadata": {
    "id": "mYDCNCX6Nqg8"
   },
   "outputs": [],
   "source": [
    "negative_df = pd.concat([negative_text, X_cat], axis = 1)\n",
    "negative_df"
   ]
  },
  {
   "cell_type": "code",
   "execution_count": null,
   "metadata": {
    "id": "FC_iG4ZrOK6n"
   },
   "outputs": [],
   "source": [
    "negative_df.drop(['variation'], axis = 1, inplace = True)\n",
    "negative_df"
   ]
  },
  {
   "cell_type": "code",
   "execution_count": null,
   "metadata": {
    "id": "D3DQ-uYVOVdE"
   },
   "outputs": [],
   "source": [
    "negative_coutvectorizer = vec.transform(negative_df['verified_reviews'])"
   ]
  },
  {
   "cell_type": "code",
   "execution_count": null,
   "metadata": {
    "id": "cyx3HL03Ok2S"
   },
   "outputs": [],
   "source": [
    "negative_coutvectorizer"
   ]
  },
  {
   "cell_type": "code",
   "execution_count": null,
   "metadata": {
    "id": "0Hiu8D1FOz9i"
   },
   "outputs": [],
   "source": [
    "review = pd.DataFrame(negative_coutvectorizer.toarray())\n",
    "review"
   ]
  },
  {
   "cell_type": "code",
   "execution_count": null,
   "metadata": {
    "id": "txw9yc8xOqpA"
   },
   "outputs": [],
   "source": [
    "negative_df.drop(['verified_reviews'], axis = 1, inplace = True)\n",
    "negative_df"
   ]
  },
  {
   "cell_type": "code",
   "execution_count": null,
   "metadata": {
    "id": "aseXU3plO-p_"
   },
   "outputs": [],
   "source": [
    "negative_df.index = review.index"
   ]
  },
  {
   "cell_type": "code",
   "execution_count": null,
   "metadata": {
    "id": "1ENuX2SlPCiD"
   },
   "outputs": [],
   "source": [
    "negative_final = pd.concat([negative_df, review], axis = 1)\n",
    "negative_final"
   ]
  },
  {
   "cell_type": "code",
   "execution_count": null,
   "metadata": {
    "id": "HZjBf06uPRxF"
   },
   "outputs": [],
   "source": [
    "bayes.predict(negative_final)\n",
    "# logistic.predict(negative_final)"
   ]
  },
  {
   "cell_type": "code",
   "execution_count": null,
   "metadata": {
    "id": "V3J9O0YFPaAT"
   },
   "outputs": [],
   "source": [
    "bayes.predict_proba(negative_final)\n",
    "# logistic.predict_proba(negative_final)"
   ]
  }
 ],
 "metadata": {
  "colab": {
   "provenance": []
  },
  "kernelspec": {
   "display_name": "Python 3",
   "language": "python",
   "name": "python3"
  },
  "language_info": {
   "codemirror_mode": {
    "name": "ipython",
    "version": 3
   },
   "file_extension": ".py",
   "mimetype": "text/x-python",
   "name": "python",
   "nbconvert_exporter": "python",
   "pygments_lexer": "ipython3",
   "version": "3.9.4"
  }
 },
 "nbformat": 4,
 "nbformat_minor": 1
}
