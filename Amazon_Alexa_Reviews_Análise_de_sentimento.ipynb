{
  "nbformat": 4,
  "nbformat_minor": 0,
  "metadata": {
    "colab": {
      "provenance": []
    },
    "kernelspec": {
      "name": "python3",
      "display_name": "Python 3"
    }
  },
  "cells": [
    {
      "cell_type": "markdown",
      "metadata": {
        "id": "M27qF7CTrBqc"
      },
      "source": [
        "# Análise de sentimentos"
      ]
    },
    {
      "cell_type": "markdown",
      "metadata": {
        "id": "uAE6Icc0uylP"
      },
      "source": [
        "## Importação das bibliotecas e base de dados\n",
        "\n",
        "- Base de dados: https://www.kaggle.com/sid321axn/amazon-alexa-reviews/kernels"
      ]
    },
    {
      "cell_type": "code",
      "metadata": {
        "id": "YBp2qDPb8pDo"
      },
      "source": [
        "import pandas as pd\n",
        "import numpy as np\n",
        "import seaborn as sns\n",
        "import matplotlib.pyplot as plt"
      ],
      "execution_count": null,
      "outputs": []
    },
    {
      "cell_type": "code",
      "metadata": {
        "id": "bZ2dOD15Hu5-"
      },
      "source": [
        "reviews_df = pd.read_csv('/content/amazon_alexa.tsv', sep = '\\t')"
      ],
      "execution_count": null,
      "outputs": []
    },
    {
      "cell_type": "code",
      "metadata": {
        "id": "430C2bGIH90e"
      },
      "source": [
        "reviews_df.shape"
      ],
      "execution_count": null,
      "outputs": []
    },
    {
      "cell_type": "code",
      "metadata": {
        "id": "kwN_A1ZeIBjt"
      },
      "source": [
        "reviews_df"
      ],
      "execution_count": null,
      "outputs": []
    },
    {
      "cell_type": "code",
      "metadata": {
        "id": "S-p5B1REJFzV"
      },
      "source": [
        "reviews_df.info()"
      ],
      "execution_count": null,
      "outputs": []
    },
    {
      "cell_type": "code",
      "metadata": {
        "id": "aWVe9pWTJLud"
      },
      "source": [
        "reviews_df.describe()"
      ],
      "execution_count": null,
      "outputs": []
    },
    {
      "cell_type": "code",
      "metadata": {
        "id": "Wt56Ez5dJrga"
      },
      "source": [
        "reviews_df['verified_reviews']"
      ],
      "execution_count": null,
      "outputs": []
    },
    {
      "cell_type": "markdown",
      "metadata": {
        "id": "LlszUhNNyrl_"
      },
      "source": [
        "## Exploração dos dados"
      ]
    },
    {
      "cell_type": "code",
      "metadata": {
        "id": "q1q7332lKHx9"
      },
      "source": [
        "sns.heatmap(reviews_df.isnull(), cbar=False);"
      ],
      "execution_count": null,
      "outputs": []
    },
    {
      "cell_type": "code",
      "metadata": {
        "id": "PnauhyEIKRaD"
      },
      "source": [
        "reviews_df.isnull().sum()"
      ],
      "execution_count": null,
      "outputs": []
    },
    {
      "cell_type": "code",
      "metadata": {
        "id": "0I7CywJoKYEU"
      },
      "source": [
        "reviews_df.hist(bins = 30, figsize=(13,5), color = 'r')"
      ],
      "execution_count": null,
      "outputs": []
    },
    {
      "cell_type": "code",
      "metadata": {
        "id": "9ro2M7gYKwrF"
      },
      "source": [
        "reviews_df['length'] = reviews_df['verified_reviews'].apply(len)\n",
        "reviews_df.head()"
      ],
      "execution_count": null,
      "outputs": []
    },
    {
      "cell_type": "code",
      "metadata": {
        "id": "q09IspzFLQQw"
      },
      "source": [
        "reviews_df['length'].plot(bins = 100, kind = 'hist');"
      ],
      "execution_count": null,
      "outputs": []
    },
    {
      "cell_type": "code",
      "metadata": {
        "id": "SrlOPJDCooKY"
      },
      "source": [
        "reviews_df.length.describe()"
      ],
      "execution_count": null,
      "outputs": []
    },
    {
      "cell_type": "code",
      "metadata": {
        "id": "qM5Xygyuorx3"
      },
      "source": [
        "reviews_df[reviews_df['length'] == 2851]['verified_reviews'].iloc[0]"
      ],
      "execution_count": null,
      "outputs": []
    },
    {
      "cell_type": "code",
      "metadata": {
        "id": "vANGgeWqMP1C"
      },
      "source": [
        "reviews_df[reviews_df['length'] == 1]['verified_reviews'].iloc[0]"
      ],
      "execution_count": null,
      "outputs": []
    },
    {
      "cell_type": "code",
      "metadata": {
        "id": "zAerEAFCMW3f"
      },
      "source": [
        "reviews_df[reviews_df['length'] == 131]['verified_reviews'].iloc[0]"
      ],
      "execution_count": null,
      "outputs": []
    },
    {
      "cell_type": "code",
      "metadata": {
        "id": "jyIciguAMf7a"
      },
      "source": [
        "positive = reviews_df[reviews_df['feedback'] == 1]"
      ],
      "execution_count": null,
      "outputs": []
    },
    {
      "cell_type": "code",
      "metadata": {
        "id": "B8OQDNLWMm7o"
      },
      "source": [
        "positive"
      ],
      "execution_count": null,
      "outputs": []
    },
    {
      "cell_type": "code",
      "metadata": {
        "id": "B948OMS3Mpol"
      },
      "source": [
        "positive.describe()"
      ],
      "execution_count": null,
      "outputs": []
    },
    {
      "cell_type": "code",
      "metadata": {
        "id": "0NBcj-dhMxil"
      },
      "source": [
        "negative = reviews_df[reviews_df['feedback'] == 0]"
      ],
      "execution_count": null,
      "outputs": []
    },
    {
      "cell_type": "code",
      "metadata": {
        "id": "cbeu_12BM2xt"
      },
      "source": [
        "negative"
      ],
      "execution_count": null,
      "outputs": []
    },
    {
      "cell_type": "code",
      "metadata": {
        "id": "l6A8Mw-_M5I_"
      },
      "source": [
        "negative.describe()"
      ],
      "execution_count": null,
      "outputs": []
    },
    {
      "cell_type": "code",
      "metadata": {
        "id": "9ClAUcihNRIC"
      },
      "source": [
        "sns.countplot(reviews_df['feedback']);"
      ],
      "execution_count": null,
      "outputs": []
    },
    {
      "cell_type": "code",
      "metadata": {
        "id": "dRLSv5yxNa30"
      },
      "source": [
        "sns.countplot(x = 'rating', data = reviews_df);"
      ],
      "execution_count": null,
      "outputs": []
    },
    {
      "cell_type": "code",
      "metadata": {
        "id": "LWjNYgObNijK"
      },
      "source": [
        "plt.figure(figsize = (40,15))\n",
        "sns.barplot(x = 'variation', y = 'rating', data = reviews_df, palette = 'deep');"
      ],
      "execution_count": null,
      "outputs": []
    },
    {
      "cell_type": "code",
      "metadata": {
        "id": "ksOb_k_oaCwh"
      },
      "source": [
        "sentences = reviews_df['verified_reviews'].tolist()\n",
        "len(sentences)"
      ],
      "execution_count": null,
      "outputs": []
    },
    {
      "cell_type": "code",
      "metadata": {
        "id": "MLaq50AEaLh5"
      },
      "source": [
        "print(sentences[0:10])"
      ],
      "execution_count": null,
      "outputs": []
    },
    {
      "cell_type": "code",
      "metadata": {
        "id": "IRLBW9MkaXgu"
      },
      "source": [
        "sentences_as_one_string = ' '.join(sentences)"
      ],
      "execution_count": null,
      "outputs": []
    },
    {
      "cell_type": "code",
      "metadata": {
        "id": "OITaxnz6aftX"
      },
      "source": [
        "sentences_as_one_string"
      ],
      "execution_count": null,
      "outputs": []
    },
    {
      "cell_type": "code",
      "metadata": {
        "id": "8tMS9GMOalxe"
      },
      "source": [
        "len(sentences_as_one_string)"
      ],
      "execution_count": null,
      "outputs": []
    },
    {
      "cell_type": "code",
      "metadata": {
        "id": "0aC3pgbAar7S"
      },
      "source": [
        "from wordcloud import WordCloud\n",
        "plt.figure(figsize=(20,20))\n",
        "plt.imshow(WordCloud().generate(sentences_as_one_string));"
      ],
      "execution_count": null,
      "outputs": []
    },
    {
      "cell_type": "code",
      "metadata": {
        "id": "zax6I1PobR1s"
      },
      "source": [
        "negative_list = negative['verified_reviews'].tolist()\n",
        "negative_sentences_as_one_string = ' '.join(negative_list)"
      ],
      "execution_count": null,
      "outputs": []
    },
    {
      "cell_type": "code",
      "metadata": {
        "id": "55KWRfOSbdF1"
      },
      "source": [
        "len(negative_sentences_as_one_string)"
      ],
      "execution_count": null,
      "outputs": []
    },
    {
      "cell_type": "code",
      "metadata": {
        "id": "9ZyXwqycbjB_"
      },
      "source": [
        "plt.figure(figsize=(20,20))\n",
        "plt.imshow(WordCloud().generate(negative_sentences_as_one_string));"
      ],
      "execution_count": null,
      "outputs": []
    },
    {
      "cell_type": "markdown",
      "metadata": {
        "id": "Dk-VS-9mFnzA"
      },
      "source": [
        "## Limpeza dos dados"
      ]
    },
    {
      "cell_type": "code",
      "metadata": {
        "id": "pV8Q3BA7cXFc"
      },
      "source": [
        "reviews_df.head()"
      ],
      "execution_count": null,
      "outputs": []
    },
    {
      "cell_type": "code",
      "metadata": {
        "id": "qLwDq8myo6CU"
      },
      "source": [
        "reviews_df = reviews_df.drop(['date', 'rating', 'length'], axis = 1)"
      ],
      "execution_count": null,
      "outputs": []
    },
    {
      "cell_type": "code",
      "metadata": {
        "id": "jfH1B6hqo30f"
      },
      "source": [
        "reviews_df"
      ],
      "execution_count": null,
      "outputs": []
    },
    {
      "cell_type": "code",
      "metadata": {
        "id": "h52PMWPgc4r4"
      },
      "source": [
        "reviews_df['variation'].unique()"
      ],
      "execution_count": null,
      "outputs": []
    },
    {
      "cell_type": "code",
      "metadata": {
        "id": "IJsfsrs2dAQF"
      },
      "source": [
        "X_cat = reviews_df[['variation']]\n",
        "X_cat"
      ],
      "execution_count": null,
      "outputs": []
    },
    {
      "cell_type": "code",
      "metadata": {
        "id": "oal91RPTdGnZ"
      },
      "source": [
        "from sklearn.preprocessing import OneHotEncoder\n",
        "onehotencoder = OneHotEncoder()\n",
        "X_cat = onehotencoder.fit_transform(X_cat).toarray()"
      ],
      "execution_count": null,
      "outputs": []
    },
    {
      "cell_type": "code",
      "metadata": {
        "id": "T1tCC0hHdS-H"
      },
      "source": [
        "X_cat[1], X_cat.shape"
      ],
      "execution_count": null,
      "outputs": []
    },
    {
      "cell_type": "code",
      "metadata": {
        "id": "18galht4dcBt"
      },
      "source": [
        "type(X_cat)"
      ],
      "execution_count": null,
      "outputs": []
    },
    {
      "cell_type": "code",
      "metadata": {
        "id": "snKciRXvdfZV"
      },
      "source": [
        "X_cat = pd.DataFrame(X_cat)\n",
        "type(X_cat)"
      ],
      "execution_count": null,
      "outputs": []
    },
    {
      "cell_type": "code",
      "metadata": {
        "id": "mUvb5nGOdlkp"
      },
      "source": [
        "reviews_df.drop(['variation'], axis = 1, inplace = True)"
      ],
      "execution_count": null,
      "outputs": []
    },
    {
      "cell_type": "code",
      "metadata": {
        "id": "EPCdyQ-6dyhU"
      },
      "source": [
        "reviews_df"
      ],
      "execution_count": null,
      "outputs": []
    },
    {
      "cell_type": "code",
      "metadata": {
        "id": "GDfz_s2tpxMo"
      },
      "source": [
        "reviews_df = pd.concat([reviews_df, X_cat], axis = 1)\n",
        "reviews_df"
      ],
      "execution_count": null,
      "outputs": []
    },
    {
      "cell_type": "markdown",
      "metadata": {
        "id": "Y0GmpAjG3GiH"
      },
      "source": [
        "## Remoção de pontuação dos textos"
      ]
    },
    {
      "cell_type": "code",
      "metadata": {
        "id": "UUCJ7WzPqQmY"
      },
      "source": [
        "import string\n",
        "string.punctuation"
      ],
      "execution_count": null,
      "outputs": []
    },
    {
      "cell_type": "code",
      "metadata": {
        "id": "ysm5ZuVXqems"
      },
      "source": [
        "test = 'Fun item to play with and get used to using. Sometimes has hard time answering the questions you ask, but I think it will be better!'"
      ],
      "execution_count": null,
      "outputs": []
    },
    {
      "cell_type": "code",
      "metadata": {
        "id": "60R0XI6Rqlku"
      },
      "source": [
        "test_punc_removed = [char for char in test if char not in string.punctuation]"
      ],
      "execution_count": null,
      "outputs": []
    },
    {
      "cell_type": "code",
      "metadata": {
        "id": "l36K3i5rq5El"
      },
      "source": [
        "print(test_punc_removed)"
      ],
      "execution_count": null,
      "outputs": []
    },
    {
      "cell_type": "code",
      "metadata": {
        "id": "-9IdEkiIrFjX"
      },
      "source": [
        "test_punc_removed = ''.join(test_punc_removed)\n",
        "test_punc_removed"
      ],
      "execution_count": null,
      "outputs": []
    },
    {
      "cell_type": "markdown",
      "metadata": {
        "id": "78wsji1HPWW3"
      },
      "source": [
        "## Remoção de stop words"
      ]
    },
    {
      "cell_type": "code",
      "metadata": {
        "id": "NKatLXABrtka"
      },
      "source": [
        "import nltk"
      ],
      "execution_count": null,
      "outputs": []
    },
    {
      "cell_type": "code",
      "metadata": {
        "id": "3iNiJnosrwvS"
      },
      "source": [
        "nltk.download('stopwords')"
      ],
      "execution_count": null,
      "outputs": []
    },
    {
      "cell_type": "code",
      "metadata": {
        "id": "OpGeAy42r2K1"
      },
      "source": [
        "from nltk.corpus import stopwords\n",
        "print(stopwords.words('english'))"
      ],
      "execution_count": null,
      "outputs": []
    },
    {
      "cell_type": "code",
      "metadata": {
        "id": "lQ9CIiUbsPFw"
      },
      "source": [
        "len(stopwords.words('english'))"
      ],
      "execution_count": null,
      "outputs": []
    },
    {
      "cell_type": "code",
      "metadata": {
        "id": "56ZkEVAksTU6"
      },
      "source": [
        "print(stopwords.words('portuguese'))"
      ],
      "execution_count": null,
      "outputs": []
    },
    {
      "cell_type": "code",
      "metadata": {
        "id": "SkyagJZ6scPa"
      },
      "source": [
        "len(stopwords.words('portuguese'))"
      ],
      "execution_count": null,
      "outputs": []
    },
    {
      "cell_type": "code",
      "metadata": {
        "id": "-WS615hqsg_A"
      },
      "source": [
        "test_punc_removed"
      ],
      "execution_count": null,
      "outputs": []
    },
    {
      "cell_type": "code",
      "metadata": {
        "id": "TjVPciXhs08k"
      },
      "source": [
        "print(test_punc_removed.split())"
      ],
      "execution_count": null,
      "outputs": []
    },
    {
      "cell_type": "code",
      "metadata": {
        "id": "7lIkaxHOtJ-T"
      },
      "source": [
        "'AB'.lower()"
      ],
      "execution_count": null,
      "outputs": []
    },
    {
      "cell_type": "code",
      "metadata": {
        "id": "717G96ykslCP"
      },
      "source": [
        "test_punc_stop_removed = [word for word in test_punc_removed.split() if word.lower() not in stopwords.words('english')]"
      ],
      "execution_count": null,
      "outputs": []
    },
    {
      "cell_type": "code",
      "metadata": {
        "id": "Y8j7Hm-ntOa_"
      },
      "source": [
        "print(test_punc_stop_removed)"
      ],
      "execution_count": null,
      "outputs": []
    },
    {
      "cell_type": "markdown",
      "metadata": {
        "id": "7Kxb4M0pRBkU"
      },
      "source": [
        "## Count vectorization (tokenização)"
      ]
    },
    {
      "cell_type": "code",
      "metadata": {
        "id": "G8W8esPV3Fk3"
      },
      "source": [
        "from sklearn.feature_extraction.text import CountVectorizer"
      ],
      "execution_count": null,
      "outputs": []
    },
    {
      "cell_type": "code",
      "metadata": {
        "id": "thTpM7so3Kzi"
      },
      "source": [
        "sample_data = ['This is the first document.','This document is the second document.',\n",
        "               'And this is the third one.','Is this the first document?']"
      ],
      "execution_count": null,
      "outputs": []
    },
    {
      "cell_type": "code",
      "metadata": {
        "id": "7xPeDjTw3RtU"
      },
      "source": [
        "vectorizer = CountVectorizer()\n",
        "X = vectorizer.fit_transform(sample_data)"
      ],
      "execution_count": null,
      "outputs": []
    },
    {
      "cell_type": "code",
      "metadata": {
        "id": "LXVq5Bx83bV0"
      },
      "source": [
        "print(vectorizer.get_feature_names_out())"
      ],
      "execution_count": null,
      "outputs": []
    },
    {
      "cell_type": "code",
      "metadata": {
        "id": "n0gaoI7V3kaa"
      },
      "source": [
        "X"
      ],
      "execution_count": null,
      "outputs": []
    },
    {
      "cell_type": "code",
      "metadata": {
        "id": "jJ7zfY6y3nzW"
      },
      "source": [
        "print(X.toarray())"
      ],
      "execution_count": null,
      "outputs": []
    },
    {
      "cell_type": "markdown",
      "metadata": {
        "id": "2geMzGITbZPJ"
      },
      "source": [
        "## Pipeline de limpeza dos textos"
      ]
    },
    {
      "cell_type": "code",
      "metadata": {
        "id": "5XudYnOj4HsE"
      },
      "source": [
        "def message_cleaning(message):\n",
        "  text = [char for char in message if char not in string.punctuation]\n",
        "  text = ''.join(text)\n",
        "  text = [word for word in text.split() if word.lower() not in stopwords.words('english')]\n",
        "  return text"
      ],
      "execution_count": null,
      "outputs": []
    },
    {
      "cell_type": "code",
      "metadata": {
        "id": "jTeT414r4kfv"
      },
      "source": [
        "reviews_df_clean = reviews_df['verified_reviews'].apply(message_cleaning)"
      ],
      "execution_count": null,
      "outputs": []
    },
    {
      "cell_type": "code",
      "metadata": {
        "id": "g3yaxKhf4zG1"
      },
      "source": [
        "print(reviews_df_clean[3])"
      ],
      "execution_count": null,
      "outputs": []
    },
    {
      "cell_type": "code",
      "metadata": {
        "id": "KVi3-9-64-PY"
      },
      "source": [
        "print(reviews_df['verified_reviews'][3])"
      ],
      "execution_count": null,
      "outputs": []
    },
    {
      "cell_type": "code",
      "metadata": {
        "id": "9RH_ZjrC5H96"
      },
      "source": [
        "reviews_df_clean"
      ],
      "execution_count": null,
      "outputs": []
    },
    {
      "cell_type": "code",
      "metadata": {
        "id": "LMgPktDu5OdY"
      },
      "source": [
        "from sklearn.feature_extraction.text import CountVectorizer\n",
        "vectorizer = CountVectorizer(analyzer=message_cleaning)\n",
        "reviews_countvectorizer = vectorizer.fit_transform(reviews_df['verified_reviews'])"
      ],
      "execution_count": null,
      "outputs": []
    },
    {
      "cell_type": "code",
      "metadata": {
        "id": "I50FJyFW5zV4"
      },
      "source": [
        "print(vectorizer.get_feature_names_out())"
      ],
      "execution_count": null,
      "outputs": []
    },
    {
      "cell_type": "code",
      "metadata": {
        "id": "7oq-D-_157jX"
      },
      "source": [
        "len(vectorizer.get_feature_names_out())"
      ],
      "execution_count": null,
      "outputs": []
    },
    {
      "cell_type": "code",
      "metadata": {
        "id": "rEN4igUo6F8V"
      },
      "source": [
        "print(reviews_countvectorizer.toarray())"
      ],
      "execution_count": null,
      "outputs": []
    },
    {
      "cell_type": "code",
      "metadata": {
        "id": "_sZ7PhvE6LlW"
      },
      "source": [
        "reviews_countvectorizer.shape"
      ],
      "execution_count": null,
      "outputs": []
    },
    {
      "cell_type": "code",
      "metadata": {
        "id": "htF5FkAK6UlM"
      },
      "source": [
        "reviews_df"
      ],
      "execution_count": null,
      "outputs": []
    },
    {
      "cell_type": "code",
      "metadata": {
        "id": "CQAoZ64D6cn1"
      },
      "source": [
        "reviews_df.drop(['verified_reviews'], axis = 1, inplace=True)\n",
        "reviews_df"
      ],
      "execution_count": null,
      "outputs": []
    },
    {
      "cell_type": "code",
      "metadata": {
        "id": "QFhBhR6X6moo"
      },
      "source": [
        "type(reviews_countvectorizer)"
      ],
      "execution_count": null,
      "outputs": []
    },
    {
      "cell_type": "code",
      "metadata": {
        "id": "D7vN5jFK6t6i"
      },
      "source": [
        "reviews = pd.DataFrame(reviews_countvectorizer.toarray())\n",
        "type(reviews)"
      ],
      "execution_count": null,
      "outputs": []
    },
    {
      "cell_type": "code",
      "metadata": {
        "id": "2uEL17HG60e6"
      },
      "source": [
        "reviews_df = pd.concat([reviews_df, reviews], axis = 1)"
      ],
      "execution_count": null,
      "outputs": []
    },
    {
      "cell_type": "code",
      "metadata": {
        "id": "pOOJz82C67Hf"
      },
      "source": [
        "reviews_df"
      ],
      "execution_count": null,
      "outputs": []
    },
    {
      "cell_type": "code",
      "metadata": {
        "id": "k1dCDaT37CMt"
      },
      "source": [
        "X = reviews_df.drop(['feedback'], axis = 1)\n",
        "X"
      ],
      "execution_count": null,
      "outputs": []
    },
    {
      "cell_type": "code",
      "metadata": {
        "id": "UbSJnKII7OzR"
      },
      "source": [
        "y = reviews_df['feedback']\n",
        "y"
      ],
      "execution_count": null,
      "outputs": []
    },
    {
      "cell_type": "markdown",
      "metadata": {
        "id": "jIVxZdZ1USAz"
      },
      "source": [
        "## Treinamento e avaliação do Naïve Bayes"
      ]
    },
    {
      "cell_type": "code",
      "metadata": {
        "id": "_NsT3WZJIIg9"
      },
      "source": [
        "from sklearn.model_selection import train_test_split\n",
        "X_train, X_test, y_train, y_test = train_test_split(X, y, test_size = 0.2)"
      ],
      "execution_count": null,
      "outputs": []
    },
    {
      "cell_type": "code",
      "metadata": {
        "id": "jNkfm1fPISYk"
      },
      "source": [
        "X_train.shape, X_test.shape"
      ],
      "execution_count": null,
      "outputs": []
    },
    {
      "cell_type": "code",
      "metadata": {
        "id": "Obsf1vAoIXMJ"
      },
      "source": [
        "from sklearn.naive_bayes import MultinomialNB"
      ],
      "execution_count": null,
      "outputs": []
    },
    {
      "cell_type": "code",
      "metadata": {
        "id": "_zpBU5jsI_9K"
      },
      "source": [
        "naive_bayes = MultinomialNB()\n",
        "naive_bayes.fit(X_train, y_train)"
      ],
      "execution_count": null,
      "outputs": []
    },
    {
      "cell_type": "code",
      "metadata": {
        "id": "P7NxFgsWJIl5"
      },
      "source": [
        "from sklearn.metrics import classification_report, confusion_matrix, accuracy_score"
      ],
      "execution_count": null,
      "outputs": []
    },
    {
      "cell_type": "code",
      "metadata": {
        "id": "IeIcyvOEJOjk"
      },
      "source": [
        "y_pred = naive_bayes.predict(X_test)"
      ],
      "execution_count": null,
      "outputs": []
    },
    {
      "cell_type": "code",
      "metadata": {
        "id": "FuYWzd-JJTuG"
      },
      "source": [
        "y_pred"
      ],
      "execution_count": null,
      "outputs": []
    },
    {
      "cell_type": "code",
      "metadata": {
        "id": "1tKTpZsBJWd3"
      },
      "source": [
        "y_test"
      ],
      "execution_count": null,
      "outputs": []
    },
    {
      "cell_type": "code",
      "metadata": {
        "id": "DNbdrYvgJbLP"
      },
      "source": [
        "accuracy_score(y_test, y_pred)"
      ],
      "execution_count": null,
      "outputs": []
    },
    {
      "cell_type": "code",
      "metadata": {
        "id": "InuG7OoUJhGt"
      },
      "source": [
        "cm = confusion_matrix(y_test, y_pred)\n",
        "cm"
      ],
      "execution_count": null,
      "outputs": []
    },
    {
      "cell_type": "code",
      "metadata": {
        "id": "EEPTg2H8JoBi"
      },
      "source": [
        "sns.heatmap(cm, annot=True, fmt='.3g');"
      ],
      "execution_count": null,
      "outputs": []
    },
    {
      "cell_type": "code",
      "metadata": {
        "id": "DDYFhkb7J061"
      },
      "source": [
        "print(classification_report(y_test, y_pred))"
      ],
      "execution_count": null,
      "outputs": []
    },
    {
      "cell_type": "markdown",
      "metadata": {
        "id": "otudfveOME9P"
      },
      "source": [
        "## Treinamento e avaliação da regressão logística"
      ]
    },
    {
      "cell_type": "code",
      "metadata": {
        "id": "JKgwgvqCKrKL"
      },
      "source": [
        "from sklearn.linear_model import LogisticRegression"
      ],
      "execution_count": null,
      "outputs": []
    },
    {
      "cell_type": "code",
      "metadata": {
        "id": "fHIgoqwSKwXE"
      },
      "source": [
        "logistic = LogisticRegression()\n",
        "logistic.fit(X_train, y_train)"
      ],
      "execution_count": null,
      "outputs": []
    },
    {
      "cell_type": "code",
      "metadata": {
        "id": "zaWxKxi1K2ld"
      },
      "source": [
        "y_pred = logistic.predict(X_test)"
      ],
      "execution_count": null,
      "outputs": []
    },
    {
      "cell_type": "code",
      "metadata": {
        "id": "f0kh83poK68v"
      },
      "source": [
        "accuracy_score(y_test, y_pred)"
      ],
      "execution_count": null,
      "outputs": []
    },
    {
      "cell_type": "code",
      "metadata": {
        "id": "copXPhu0LB6H"
      },
      "source": [
        "print(classification_report(y_test, y_pred))"
      ],
      "execution_count": null,
      "outputs": []
    },
    {
      "cell_type": "markdown",
      "metadata": {
        "id": "WAEsIPnlMHXa"
      },
      "source": [
        "## Classificação de somente uma frase"
      ]
    },
    {
      "cell_type": "code",
      "metadata": {
        "id": "pCTSKazXMA-m"
      },
      "source": [
        "import pickle"
      ],
      "execution_count": null,
      "outputs": []
    },
    {
      "cell_type": "code",
      "metadata": {
        "id": "-aE8_tzbMEuL"
      },
      "source": [
        "with open('text_classifier.pkl', 'wb') as f:\n",
        "  pickle.dump([naive_bayes, onehotencoder, vectorizer], f)"
      ],
      "execution_count": null,
      "outputs": []
    },
    {
      "cell_type": "code",
      "metadata": {
        "id": "VcAOxFJdMZ06"
      },
      "source": [
        "with open('text_classifier.pkl', 'rb') as f:\n",
        "  bayes, onehot, vec = pickle.load(f)"
      ],
      "execution_count": null,
      "outputs": []
    },
    {
      "cell_type": "code",
      "metadata": {
        "id": "BOUO-B2eMluw"
      },
      "source": [
        "bayes"
      ],
      "execution_count": null,
      "outputs": []
    },
    {
      "cell_type": "code",
      "metadata": {
        "id": "jgI1HOLrMnbb"
      },
      "source": [
        "onehot"
      ],
      "execution_count": null,
      "outputs": []
    },
    {
      "cell_type": "code",
      "metadata": {
        "id": "lLfhX1w3MpCz"
      },
      "source": [
        "vec"
      ],
      "execution_count": null,
      "outputs": []
    },
    {
      "cell_type": "code",
      "metadata": {
        "id": "AvRyM6wCMuL8"
      },
      "source": [
        "negative.head()"
      ],
      "execution_count": null,
      "outputs": []
    },
    {
      "cell_type": "code",
      "metadata": {
        "id": "iuaVa_XXM4dJ"
      },
      "source": [
        "negative_text = negative.iloc[1:2, [2,3]]\n",
        "negative_text"
      ],
      "execution_count": null,
      "outputs": []
    },
    {
      "cell_type": "code",
      "metadata": {
        "id": "k3Op9adxNQ_c"
      },
      "source": [
        "X_cat = negative_text[['variation']]\n",
        "X_cat"
      ],
      "execution_count": null,
      "outputs": []
    },
    {
      "cell_type": "code",
      "metadata": {
        "id": "u5YiuA5zNWqY"
      },
      "source": [
        "X_cat = onehot.transform(X_cat).toarray()\n",
        "X_cat = pd.DataFrame(X_cat)\n",
        "X_cat"
      ],
      "execution_count": null,
      "outputs": []
    },
    {
      "cell_type": "code",
      "metadata": {
        "id": "vWwO9U2CNjD6"
      },
      "source": [
        "negative_text"
      ],
      "execution_count": null,
      "outputs": []
    },
    {
      "cell_type": "code",
      "metadata": {
        "id": "ZhF1Ci5kN547"
      },
      "source": [
        "X_cat.index = negative_text.index"
      ],
      "execution_count": null,
      "outputs": []
    },
    {
      "cell_type": "code",
      "metadata": {
        "id": "zj6i1cabOAeg"
      },
      "source": [
        "X_cat.index, negative_text.index"
      ],
      "execution_count": null,
      "outputs": []
    },
    {
      "cell_type": "code",
      "metadata": {
        "id": "mYDCNCX6Nqg8"
      },
      "source": [
        "negative_df = pd.concat([negative_text, X_cat], axis = 1)\n",
        "negative_df"
      ],
      "execution_count": null,
      "outputs": []
    },
    {
      "cell_type": "code",
      "metadata": {
        "id": "FC_iG4ZrOK6n"
      },
      "source": [
        "negative_df.drop(['variation'], axis = 1, inplace = True)\n",
        "negative_df"
      ],
      "execution_count": null,
      "outputs": []
    },
    {
      "cell_type": "code",
      "metadata": {
        "id": "D3DQ-uYVOVdE"
      },
      "source": [
        "negative_coutvectorizer = vec.transform(negative_df['verified_reviews'])"
      ],
      "execution_count": null,
      "outputs": []
    },
    {
      "cell_type": "code",
      "metadata": {
        "id": "cyx3HL03Ok2S"
      },
      "source": [
        "negative_coutvectorizer"
      ],
      "execution_count": null,
      "outputs": []
    },
    {
      "cell_type": "code",
      "metadata": {
        "id": "0Hiu8D1FOz9i"
      },
      "source": [
        "review = pd.DataFrame(negative_coutvectorizer.toarray())\n",
        "review"
      ],
      "execution_count": null,
      "outputs": []
    },
    {
      "cell_type": "code",
      "metadata": {
        "id": "txw9yc8xOqpA"
      },
      "source": [
        "negative_df.drop(['verified_reviews'], axis = 1, inplace = True)\n",
        "negative_df"
      ],
      "execution_count": null,
      "outputs": []
    },
    {
      "cell_type": "code",
      "metadata": {
        "id": "aseXU3plO-p_"
      },
      "source": [
        "negative_df.index = review.index"
      ],
      "execution_count": null,
      "outputs": []
    },
    {
      "cell_type": "code",
      "metadata": {
        "id": "1ENuX2SlPCiD"
      },
      "source": [
        "negative_final = pd.concat([negative_df, review], axis = 1)\n",
        "negative_final"
      ],
      "execution_count": null,
      "outputs": []
    },
    {
      "cell_type": "code",
      "metadata": {
        "id": "HZjBf06uPRxF"
      },
      "source": [
        "bayes.predict(negative_final)\n",
        "# logistic.predict(negative_final)"
      ],
      "execution_count": null,
      "outputs": []
    },
    {
      "cell_type": "code",
      "metadata": {
        "id": "V3J9O0YFPaAT"
      },
      "source": [
        "bayes.predict_proba(negative_final)\n",
        "# logistic.predict_proba(negative_final)"
      ],
      "execution_count": null,
      "outputs": []
    }
  ]
}